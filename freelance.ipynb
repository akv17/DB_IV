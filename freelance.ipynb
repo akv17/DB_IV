{
 "cells": [
  {
   "cell_type": "markdown",
   "metadata": {},
   "source": [
    "Employee:\n",
    "- id\n",
    "- name\n",
    "- field\n",
    "\n",
    "Freelancer:\n",
    "- id\n",
    "- name\n",
    "- field\n",
    "- skills\n",
    "- workingon\n",
    "\n",
    "Project:\n",
    "- id\n",
    "- name\n",
    "- descr\n",
    "- employeeid\n",
    "- field\n",
    "- requirements\n",
    "- due\n",
    "- available\n",
    "- freelancerid"
   ]
  },
  {
   "cell_type": "code",
   "execution_count": 1,
   "metadata": {},
   "outputs": [],
   "source": [
    "import sqlite3\n",
    "import os"
   ]
  },
  {
   "cell_type": "code",
   "execution_count": 148,
   "metadata": {},
   "outputs": [],
   "source": [
    "class FL:\n",
    "    \n",
    "    def __init__(self, path):\n",
    "        #if not os.path.exists(path):\n",
    "        #    self.con = sqlite3.connect(path)\n",
    "        #    self.build_tables()\n",
    "        #else:\n",
    "        #    self.con = sqlite3.connect(path)\n",
    "        if os.path.exists:\n",
    "            os.remove(path)\n",
    "            \n",
    "        self.con = sqlite3.connect(path)\n",
    "        self.cursor = self.con.cursor()\n",
    "        self.create_tables()\n",
    "        \n",
    "    def create_tables(self):\n",
    "        self.cursor.execute(\n",
    "        \"\"\"\n",
    "        CREATE TABLE Employees (emp_id INTEGER PRIMARY KEY AUTOINCREMENT,\n",
    "                                emp_name TEXT,\n",
    "                                emp_field TEXT\n",
    "                                );\n",
    "        \"\"\"\n",
    "        )\n",
    "        \n",
    "        self.cursor.execute(\n",
    "        \"\"\"\n",
    "        CREATE TABLE Freelancers (frl_id INTEGER PRIMARY KEY AUTOINCREMENT,\n",
    "                                  frl_name TEXT,\n",
    "                                  frl_field TEXT,\n",
    "                                  frl_skills TEXT,\n",
    "                                  frl_busy INT\n",
    "                                  );\n",
    "        \"\"\"\n",
    "        )\n",
    "    \n",
    "    def fetch_all(self):\n",
    "        return self.cursor.fetchall()\n",
    "    \n",
    "    def fetch_table(self, name):\n",
    "        self.cursor.execute('SELECT * FROM %s' % name)\n",
    "        return self.cursor.fetchall()\n",
    "    \n",
    "    def insert_into(self, into, cols, vals):\n",
    "        cmd = 'INSERT into %s %s VALUES %s;' % (into, cols, vals)\n",
    "        self.cursor.execute(cmd)\n",
    "    \n",
    "    def select_from(self, what, _from, where):\n",
    "        cmd = 'SELECT %s FROM %s WHERE %s;' % (what, _from, where)\n",
    "        self.cursor.execute(cmd)\n",
    "        return self.cursor.fetchone()\n",
    "    \n",
    "    def signup_as_employee(self, name=\"one\", field=\"it\"):\n",
    "        _vars = locals()\n",
    "        \n",
    "        cols = tuple([k for k in _vars if k != 'self'])\n",
    "        vals = tuple([_vars[k] for k in cols])\n",
    "        cols = tuple(map(lambda x: 'emp_%s' % x, cols))\n",
    "        \n",
    "        self.insert_into('Employees', cols, vals)\n",
    "        \n",
    "    def get_employee(self, _id):\n",
    "        _id = 'emp_id = %s' % _id\n",
    "        return self.select_from('*', 'Employees', _id)\n",
    "        "
   ]
  },
  {
   "cell_type": "code",
   "execution_count": 149,
   "metadata": {},
   "outputs": [],
   "source": [
    "fl = FL('fl1.db')"
   ]
  },
  {
   "cell_type": "code",
   "execution_count": 150,
   "metadata": {},
   "outputs": [],
   "source": [
    "fl.signup_as_employee(name=\"two\")"
   ]
  },
  {
   "cell_type": "code",
   "execution_count": 151,
   "metadata": {},
   "outputs": [
    {
     "data": {
      "text/plain": [
       "[(1, 'two', 'it')]"
      ]
     },
     "execution_count": 151,
     "metadata": {},
     "output_type": "execute_result"
    }
   ],
   "source": [
    "fl.monitor_employee(1)"
   ]
  },
  {
   "cell_type": "code",
   "execution_count": 139,
   "metadata": {},
   "outputs": [
    {
     "data": {
      "text/plain": [
       "[(1, 'two', 'it')]"
      ]
     },
     "execution_count": 139,
     "metadata": {},
     "output_type": "execute_result"
    }
   ],
   "source": [
    "fl.fetch_table('Employees')"
   ]
  },
  {
   "cell_type": "code",
   "execution_count": 71,
   "metadata": {},
   "outputs": [],
   "source": [
    "def f(a=1, b=2):\n",
    "    print(locals())\n",
    "    return f.__code__"
   ]
  },
  {
   "cell_type": "code",
   "execution_count": 91,
   "metadata": {},
   "outputs": [],
   "source": [
    "a = [1, 2]"
   ]
  },
  {
   "cell_type": "code",
   "execution_count": 95,
   "metadata": {},
   "outputs": [],
   "source": [
    "a = list(map(lambda x: str(x), a))"
   ]
  },
  {
   "cell_type": "code",
   "execution_count": 96,
   "metadata": {},
   "outputs": [
    {
     "data": {
      "text/plain": [
       "['1', '2']"
      ]
     },
     "execution_count": 96,
     "metadata": {},
     "output_type": "execute_result"
    }
   ],
   "source": [
    "a"
   ]
  },
  {
   "cell_type": "code",
   "execution_count": null,
   "metadata": {},
   "outputs": [],
   "source": []
  },
  {
   "cell_type": "code",
   "execution_count": null,
   "metadata": {},
   "outputs": [],
   "source": []
  }
 ],
 "metadata": {
  "kernelspec": {
   "display_name": "Python 3",
   "language": "python",
   "name": "python3"
  },
  "language_info": {
   "codemirror_mode": {
    "name": "ipython",
    "version": 3
   },
   "file_extension": ".py",
   "mimetype": "text/x-python",
   "name": "python",
   "nbconvert_exporter": "python",
   "pygments_lexer": "ipython3",
   "version": "3.6.5"
  }
 },
 "nbformat": 4,
 "nbformat_minor": 2
}
